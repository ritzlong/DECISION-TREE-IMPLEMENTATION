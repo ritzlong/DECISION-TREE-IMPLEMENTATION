#Step 1: Install Required Libraries
!pip install scikit-learn matplotlib seaborn pandas

import pandas as pd
import numpy as np
import seaborn as sns
import matplotlib.pyplot as plt

from sklearn.datasets import load_iris
from sklearn.model_selection import train_test_split
from sklearn.tree import DecisionTreeClassifier, plot_tree
from sklearn.metrics import classification_report, confusion_matrix

# Step 2: Load Titanic dataset from seaborn
df = sns.load_dataset('titanic')
df.head()

# Step 3: Data Processing
#Select features and drop rows with missing values
data = df[['survived', 'pclass', 'sex', 'age', 'fare', 'embarked']].dropna()

# Convert categorical features
data['sex'] = data['sex'].map({'male': 0, 'female': 1})
data['embarked'] = data['embarked'].map({'S': 0, 'C': 1, 'Q': 2})

X = data[['pclass', 'sex', 'age', 'fare', 'embarked']]
y = data['survived']

# Split into train/test
X_train, X_test, y_train, y_test = train_test_split(X, y, test_size=0.2, random_state=42)

# Step 4: Build and Train the Decision Tree Model
model = DecisionTreeClassifier(max_depth=4, random_state=42)
model.fit(X_train, y_train)

# Step 5: Visualize the Decision Tree
plt.figure(figsize=(20,10))
plot_tree(model, feature_names=X.columns, class_names=['Died', 'Survived'], filled=True)
plt.title("Decision Tree - Titanic Survival Prediction")
plt.show()

# Step 6: Make Predictions and Evaluate the Model
y_pred = model.predict(X_test)

print("Classification Report:\n")
print(classification_report(y_test, y_pred, target_names=["Died", "Survived"]))

# Step 7: Visualize the Confusion Matrix
conf_mat = confusion_matrix(y_test, y_pred)

sns.heatmap(conf_mat, annot=True, fmt="d", cmap="Blues", xticklabels=["Died", "Survived"], yticklabels=["Died", "Survived"])
plt.xlabel("Predicted")
plt.ylabel("Actual")
plt.title("Confusion Matrix")
plt.show()
